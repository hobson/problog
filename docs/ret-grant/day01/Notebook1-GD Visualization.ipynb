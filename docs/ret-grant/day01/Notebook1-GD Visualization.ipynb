{
 "cells": [
  {
   "cell_type": "code",
   "execution_count": 1,
   "id": "l4sn3nkzAXK5",
   "metadata": {
    "colab": {
     "base_uri": "https://localhost:8080/",
     "height": 1000
    },
    "executionInfo": {
     "elapsed": 30581,
     "status": "ok",
     "timestamp": 1697267206486,
     "user": {
      "displayName": "Mrigankshi Kapoor",
      "userId": "00846604549652266934"
     },
     "user_tz": 420
    },
    "id": "l4sn3nkzAXK5",
    "outputId": "d549da54-1d6b-40d0-d5a3-e57262b36ba8"
   },
   "outputs": [
    {
     "name": "stdout",
     "output_type": "stream",
     "text": [
      "Collecting numdifftools\n",
      "  Downloading numdifftools-0.9.41-py2.py3-none-any.whl (100 kB)\n",
      "\u001b[K     |████████████████████████████████| 100 kB 1.6 MB/s ta 0:00:01\n",
      "\u001b[?25hRequirement already satisfied: numpy>=1.9 in /opt/anaconda3/lib/python3.9/site-packages (from numdifftools) (1.22.3)\n",
      "Requirement already satisfied: scipy>=0.8 in /opt/anaconda3/lib/python3.9/site-packages (from numdifftools) (1.7.3)\n",
      "Installing collected packages: numdifftools\n",
      "Successfully installed numdifftools-0.9.41\n"
     ]
    }
   ],
   "source": [
    "!pip install numdifftools"
   ]
  },
  {
   "cell_type": "code",
   "execution_count": 1,
   "id": "8ab5c3d3",
   "metadata": {
    "executionInfo": {
     "elapsed": 186,
     "status": "ok",
     "timestamp": 1697267234517,
     "user": {
      "displayName": "Mrigankshi Kapoor",
      "userId": "00846604549652266934"
     },
     "user_tz": 420
    },
    "id": "8ab5c3d3"
   },
   "outputs": [],
   "source": [
    "# Imports\n",
    "%matplotlib notebook\n",
    "import numpy as np\n",
    "import matplotlib.pyplot as plt\n",
    "\n",
    "import ipywidgets as widgets\n",
    "from ipywidgets import interactive\n",
    "\n",
    "import numdifftools as nd\n",
    "\n",
    "from IPython.display import display\n",
    "from IPython.display import clear_output\n",
    "\n",
    "from GD import visualize_GD, visualize_GD_3D"
   ]
  },
  {
   "cell_type": "code",
   "execution_count": null,
   "id": "ML7Fw-PZAXED",
   "metadata": {
    "executionInfo": {
     "elapsed": 154,
     "status": "ok",
     "timestamp": 1697267236103,
     "user": {
      "displayName": "Mrigankshi Kapoor",
      "userId": "00846604549652266934"
     },
     "user_tz": 420
    },
    "id": "ML7Fw-PZAXED"
   },
   "outputs": [],
   "source": []
  },
  {
   "cell_type": "markdown",
   "id": "d0d727a8",
   "metadata": {
    "id": "d0d727a8"
   },
   "source": [
    "---\n",
    "# Gradient Descent Algorithm with Momentum\n",
    "\n",
    "This section contains the implementation of the gradient descent algorithm with momentum.\n",
    "\n",
    "The algorithm updates the current point based on the gradient of the objective function and a momentum term. The history of points visited during the optimization is stored.\n",
    "\n",
    "\n",
    "## Formula\n",
    "\n",
    "The algorithm's update equations are:\n",
    "\n",
    "$v_t = \\beta \\cdot v_{t-1} + \\nabla f(x_t)$\n",
    "\n",
    "$x_{t+1} = x_t - \\alpha \\cdot v_t$\n",
    "\n",
    "Where:\n",
    "- $x_t$: Current point.\n",
    "- $v_t$: Momentum term.\n",
    "- $\\nabla f(x_t)$: Gradient of the objective function.\n",
    "- $\\alpha$: Learning rate.\n",
    "- $\\beta$: Momentum coefficient.\n",
    "\n",
    "\n",
    "\n",
    "\n",
    "For a better understanding of how gradient descent works, take a note of the comments in the function below.\n",
    "\n",
    "---"
   ]
  },
  {
   "cell_type": "code",
   "execution_count": 2,
   "id": "6fa733b2",
   "metadata": {
    "executionInfo": {
     "elapsed": 158,
     "status": "ok",
     "timestamp": 1697267238240,
     "user": {
      "displayName": "Mrigankshi Kapoor",
      "userId": "00846604549652266934"
     },
     "user_tz": 420
    },
    "id": "6fa733b2"
   },
   "outputs": [],
   "source": [
    "# gradient descent algorithm\n",
    "def gradient_descent(initial_point, learning_rate, momentum, num_iterations, function):\n",
    "    '''\n",
    "    Perform gradient descent optimization with momentum.\n",
    "\n",
    "    Parameters:\n",
    "    initial_point (list or array): Starting point for optimization.\n",
    "    learning_rate (float): Step size for each iteration.\n",
    "    momentum (float): Momentum coefficient.\n",
    "    num_iterations (int): Number of iterations to perform.\n",
    "    function (lambda function): Objective function to minimize.\n",
    "\n",
    "    Returns:\n",
    "    history (numpy.ndarray): Array of points visited during optimization.\n",
    "    '''\n",
    "\n",
    "    history = [initial_point]\n",
    "    point = np.array(initial_point)\n",
    "    velocity = np.zeros_like(point)\n",
    "\n",
    "    for _ in range(num_iterations):\n",
    "        # Compute the gradient of the objective function at the current point\n",
    "        grad = nd.Gradient(function)(point)\n",
    "\n",
    "        # Update the velocity using the momentum term and gradient\n",
    "        velocity = momentum * velocity + grad\n",
    "\n",
    "        # Update the point using the learning rate and velocity\n",
    "        point -= learning_rate * velocity\n",
    "\n",
    "        # Add the current point to the history\n",
    "        history.append(point.copy())\n",
    "\n",
    "    return np.array(history)"
   ]
  },
  {
   "cell_type": "markdown",
   "id": "30015a5e",
   "metadata": {
    "id": "30015a5e"
   },
   "source": [
    "---\n",
    "\n",
    "# Optimization Visualization Widget\n",
    "Here, we define a Python function create_visualization_widget_2D and create_visualization_widget_3D that facilitates the interactive visualization of optimization processes. The goal is to visually illustrate how optimization algorithms converge to the optimal solution of a given objective function.\n",
    "\n",
    "You don't need to be aware of how the visualization functions work. Simply run and skip over the details.\n",
    "\n",
    "---"
   ]
  },
  {
   "cell_type": "code",
   "execution_count": 3,
   "id": "3f5f9b48",
   "metadata": {
    "executionInfo": {
     "elapsed": 156,
     "status": "ok",
     "timestamp": 1697267239854,
     "user": {
      "displayName": "Mrigankshi Kapoor",
      "userId": "00846604549652266934"
     },
     "user_tz": 420
    },
    "id": "3f5f9b48"
   },
   "outputs": [],
   "source": [
    "global_animation  = None\n",
    "\n",
    "\n",
    "def create_visualization_widget_2D(objective, add_momentum = False, add_epochs = False):\n",
    "    global global_animation\n",
    "\n",
    "    global_animation = None\n",
    "\n",
    "    # Create a button widget\n",
    "    start_button = widgets.Button(description=\"Start Visualization\", layout=widgets.Layout(width='auto'))\n",
    "\n",
    "    # Create an Output widget\n",
    "    output = widgets.Output()\n",
    "\n",
    "    # Create sliders for learning rate and initial point\n",
    "    learning_rate_slider = widgets.FloatSlider(value=0.01, min=0.01, max=1, step=0.1, description=\"Learning Rate:\")\n",
    "    init_slider = widgets.FloatSlider(value=2.0, min=-5.0, max=5.0, step=1.0, description=\"Initial Point:\")\n",
    "    momentum_slider = widgets.FloatSlider(value=0.0, min=0.0, max=0.99, step=0.01, description=\"Momentum:\")\n",
    "    epochs_slider = widgets.IntSlider(value=19, min=9, max=39, step=1, description=\"Epochs:\")\n",
    "\n",
    "    def start_visualization(_):\n",
    "        with output:\n",
    "            clear_output(wait=True)\n",
    "            global global_animation\n",
    "            learning_rate = learning_rate_slider.value\n",
    "            init = init_slider.value\n",
    "            history = gradient_descent([init], learning_rate, momentum_slider.value, epochs_slider.value, objective)\n",
    "            plt.close()\n",
    "            global_animation = visualize_GD(history, objective)\n",
    "\n",
    "    start_button.on_click(start_visualization)\n",
    "\n",
    "    display_list = [learning_rate_slider, init_slider]\n",
    "    if(add_momentum):\n",
    "        display_list.append(momentum_slider)\n",
    "    if(add_epochs):\n",
    "        display_list.append(epochs_slider)\n",
    "\n",
    "    display_list.append(start_button)\n",
    "\n",
    "    widget_box = widgets.VBox(display_list)\n",
    "    display(widget_box, output)\n",
    "\n",
    "\n",
    "def create_visualization_widget_3D(objective, add_momentum = False, add_epochs = False):\n",
    "    global global_animation\n",
    "    global_animation = None\n",
    "\n",
    "    # Create a button widget\n",
    "    start_button = widgets.Button(description=\"Start Visualization\", layout=widgets.Layout(width='auto'))\n",
    "\n",
    "    # Create an Output widget\n",
    "    output = widgets.Output()\n",
    "\n",
    "    # Create sliders for learning rate and initial point\n",
    "    learning_rate_slider =  widgets.FloatSlider(value=0.01, min=0.01, max=1, step=0.1, description=\"Learning Rate:\")\n",
    "    init_x_slider =  widgets.FloatSlider(value=2.0, min=-5.0, max=5.0, step=1.0, description=\"Initial Point, X axis:\")\n",
    "    init_y_slider =  widgets.FloatSlider(value=2.0, min=-5.0, max=5.0, step=1.0, description=\"Initial Point, Y axis:\")\n",
    "    momentum_slider =  widgets.FloatSlider(value=0.0, min=0.0, max=0.99, step=0.01, description=\"Momentum:\")\n",
    "    epochs_slider =  widgets.IntSlider(value=19, min=9, max=39, step=1, description=\"Epochs:\")\n",
    "\n",
    "\n",
    "    def start_visualization(_):\n",
    "        with output:\n",
    "            clear_output(wait=True)\n",
    "            global global_animation\n",
    "            learning_rate = learning_rate_slider.value\n",
    "            init_x = init_x_slider.value\n",
    "            init_y = init_y_slider.value\n",
    "            history = gradient_descent([init_x, init_y], learning_rate, momentum_slider.value, epochs_slider.value, objective)\n",
    "            plt.close()\n",
    "            global_animation= visualize_GD_3D(history, objective)\n",
    "\n",
    "    start_button.on_click(start_visualization)\n",
    "\n",
    "\n",
    "\n",
    "    # Arrange the widgets using HBox and VBox\n",
    "    widget_box = widgets.VBox([learning_rate_slider, init_x_slider, init_y_slider, momentum_slider, epochs_slider, start_button])\n",
    "    display(widget_box, output)"
   ]
  },
  {
   "cell_type": "markdown",
   "id": "8464cddf",
   "metadata": {
    "id": "8464cddf"
   },
   "source": [
    "---\n",
    "\n",
    "# Gradient Descent for function of 1 variable\n",
    "\n",
    "In this section, you can experiment with the gradient descent algorithm for a function of one variable.\n",
    "\n",
    "The objective1 function is provided as an example. You can also choose other functions to visualize the optimization process.\n",
    "\n",
    "---"
   ]
  },
  {
   "cell_type": "markdown",
   "id": "b649ebed",
   "metadata": {
    "id": "b649ebed"
   },
   "source": [
    "### We start with a simple quadratic function which has a parabolic graph\n",
    "\n",
    "This would mean **that the gradient descent algorithm should be able to converge at the global minima** in a relatively small number of iterations for different hyperparameter values, even with a basic version of gradient descent that doesn't use momentum.\n",
    "\n",
    "Try different values of learning rate and initial points from the slider and see how the behaviour of the algorithm changes. **Does it perform better with small learning rate values or larger learning rate values in this example?**\n"
   ]
  },
  {
   "cell_type": "code",
   "execution_count": 4,
   "id": "b0dbbfe6",
   "metadata": {
    "executionInfo": {
     "elapsed": 2,
     "status": "ok",
     "timestamp": 1697267242215,
     "user": {
      "displayName": "Mrigankshi Kapoor",
      "userId": "00846604549652266934"
     },
     "user_tz": 420
    },
    "id": "b0dbbfe6"
   },
   "outputs": [],
   "source": [
    "#Parabola objective\n",
    "objective1 = lambda x : x**2 + 4*x"
   ]
  },
  {
   "cell_type": "code",
   "execution_count": 5,
   "id": "cee611d9",
   "metadata": {
    "colab": {
     "base_uri": "https://localhost:8080/"
    },
    "executionInfo": {
     "elapsed": 151,
     "status": "ok",
     "timestamp": 1697267243140,
     "user": {
      "displayName": "Mrigankshi Kapoor",
      "userId": "00846604549652266934"
     },
     "user_tz": 420
    },
    "id": "cee611d9",
    "outputId": "f6f8b557-b5b8-4b6e-f810-48f22468a3fb",
    "scrolled": true
   },
   "outputs": [
    {
     "name": "stdout",
     "output_type": "stream",
     "text": [
      "Value of the function at x = 1 :  5 \n",
      "Value of the function at x = 2 :  12\n",
      "Value of the function gradient at x = 1 :  5.999999999999999 \n",
      "Value of the function gradient at x = 2 :  7.9999999999999005\n"
     ]
    }
   ],
   "source": [
    "# Verify function\n",
    "print(\"Value of the function at x = 1 : \", objective1(1), \"\\nValue of the function at x = 2 : \", objective1(2))\n",
    "print(\"Value of the function gradient at x = 1 : \",\n",
    "      nd.Gradient(objective1)([1]), \"\\nValue of the function gradient at x = 2 : \", nd.Gradient(objective1)([2]))"
   ]
  },
  {
   "cell_type": "code",
   "execution_count": 6,
   "id": "c4bc6f5d",
   "metadata": {
    "colab": {
     "base_uri": "https://localhost:8080/",
     "height": 113,
     "referenced_widgets": [
      "0b5e0db192d949a28632ad735d210495",
      "3f92b24a7af74274a205239fcfe0b620",
      "6ed822457f66484c93c76f7ebf5e0bf2",
      "7b71abec2c634cbcbaf13c0292952459",
      "638291b4914e47e586615c59e0c93637",
      "35492201fcf2409db0e9b5fe0d98d249",
      "0fe7ca50bea74c79a3fb64341a124b6e",
      "a86c1a7d01f1406b8c6cf05f2c2c07eb",
      "6683a15efe4f4cb7ad8a6d28db4ba057",
      "af5c4bd7205340d0ba99351cd0808b34",
      "3e53d03a558b4160b96d4c8f43caea56",
      "4aced5c8747c4e23869649cfca38cdf5",
      "e08f65a170634ca08f8479f1e6cefa6d"
     ]
    },
    "executionInfo": {
     "elapsed": 178,
     "status": "ok",
     "timestamp": 1697267244312,
     "user": {
      "displayName": "Mrigankshi Kapoor",
      "userId": "00846604549652266934"
     },
     "user_tz": 420
    },
    "id": "c4bc6f5d",
    "outputId": "a3861783-3568-4319-d470-b48ce851e606"
   },
   "outputs": [
    {
     "data": {
      "application/vnd.jupyter.widget-view+json": {
       "model_id": "2c24a40a45ca42489ffe11db86a174c1",
       "version_major": 2,
       "version_minor": 0
      },
      "text/plain": [
       "VBox(children=(FloatSlider(value=0.01, description='Learning Rate:', max=1.0, min=0.01), FloatSlider(value=2.0…"
      ]
     },
     "metadata": {},
     "output_type": "display_data"
    },
    {
     "data": {
      "application/vnd.jupyter.widget-view+json": {
       "model_id": "af5b0af5e58f4b5c97390cf197c27750",
       "version_major": 2,
       "version_minor": 0
      },
      "text/plain": [
       "Output()"
      ]
     },
     "metadata": {},
     "output_type": "display_data"
    }
   ],
   "source": [
    "# Run GD on the objective function and observe convergence\n",
    "create_visualization_widget_2D(objective1)"
   ]
  },
  {
   "cell_type": "markdown",
   "id": "a868def2",
   "metadata": {
    "id": "a868def2"
   },
   "source": [
    "---"
   ]
  },
  {
   "cell_type": "markdown",
   "id": "513e6706",
   "metadata": {
    "id": "513e6706"
   },
   "source": [
    "---\n",
    "\n",
    "### Let's switch to a more complicated objective function to see the limitations of vanilla gradient descent\n",
    "\n",
    "Feel free to use your own function or try one from the choices below. As long as the function is differentiable it will be supported.\n",
    "\n",
    "We are also adding some more hyperparameters to the mix. **Momentum can now be modified to be a non-zero value** and you can also increase the number of iterations if you need to.\n",
    "\n",
    "1. Let's start with **momentum = 0** for this objective function which has both a local and a global minima. **What do you observe?**\n",
    "\n",
    "2. Try changing the initial point to -3. **Does the algorithm converge?**\n",
    "\n",
    "3. Now try increasing the momentum coefficient to 0.9. **What happens to the convergence?**"
   ]
  },
  {
   "cell_type": "code",
   "execution_count": null,
   "id": "b3ae4c68",
   "metadata": {
    "id": "b3ae4c68"
   },
   "outputs": [],
   "source": [
    "objective2 = lambda x : x**4 - 5 * x**2- 3*x\n",
    "# x**4 - 5 * x**2- 3*x\n",
    "# x**2 + 4*x"
   ]
  },
  {
   "cell_type": "code",
   "execution_count": null,
   "id": "471951f9",
   "metadata": {
    "colab": {
     "referenced_widgets": [
      "8b44159cba31471ea00567eca02b6b75",
      "be6e2ef953e341b7aa86708694d1c92d"
     ]
    },
    "id": "471951f9",
    "outputId": "9b0a4da7-9de8-4683-e14f-f38873fe3e14"
   },
   "outputs": [
    {
     "data": {
      "application/vnd.jupyter.widget-view+json": {
       "model_id": "8b44159cba31471ea00567eca02b6b75",
       "version_major": 2,
       "version_minor": 0
      },
      "text/plain": [
       "VBox(children=(FloatSlider(value=0.01, description='Learning Rate:', max=1.0, min=0.01), FloatSlider(value=2.0…"
      ]
     },
     "metadata": {},
     "output_type": "display_data"
    },
    {
     "data": {
      "application/vnd.jupyter.widget-view+json": {
       "model_id": "be6e2ef953e341b7aa86708694d1c92d",
       "version_major": 2,
       "version_minor": 0
      },
      "text/plain": [
       "Output()"
      ]
     },
     "metadata": {},
     "output_type": "display_data"
    }
   ],
   "source": [
    "create_visualization_widget_2D(objective2, add_momentum= True, add_epochs= True)"
   ]
  },
  {
   "cell_type": "markdown",
   "id": "d24a5e2e",
   "metadata": {
    "id": "d24a5e2e"
   },
   "source": [
    "---"
   ]
  },
  {
   "cell_type": "markdown",
   "id": "495bcfeb",
   "metadata": {
    "id": "495bcfeb"
   },
   "source": [
    "---\n",
    "\n",
    "# Gradient Descent for function of 2 variables\n",
    "Let's add more complexity by choosing a function with two variables which will have a 3D search space.\n",
    "Again, we start with a parabola but we will later see more complex surfaces.\n"
   ]
  },
  {
   "cell_type": "markdown",
   "id": "2fd2fb01",
   "metadata": {
    "id": "2fd2fb01"
   },
   "source": [
    "### Using the Controls on the Visualization Window\n",
    "\n",
    "The control window will appear in the notebook as your animation runs.\n",
    "\n",
    "\n",
    "You can click and drag the plot to view it from different angles. You can also zoom in/out using your mouse or the buttons in the control window (which will have more instructions on how to zoom/pan). You can even resize it to change animation size."
   ]
  },
  {
   "cell_type": "code",
   "execution_count": null,
   "id": "b6372fb7",
   "metadata": {
    "id": "b6372fb7"
   },
   "outputs": [],
   "source": [
    "objective3 = lambda xy: xy[0]**2+xy[1]**2"
   ]
  },
  {
   "cell_type": "code",
   "execution_count": null,
   "id": "20a18ca4",
   "metadata": {
    "id": "20a18ca4",
    "outputId": "53223cb7-469c-4aed-87b7-9757cd124de8"
   },
   "outputs": [
    {
     "name": "stdout",
     "output_type": "stream",
     "text": [
      "Value of the function at x = 1 :  2.0 \n",
      "Value of the function at x = 2 :  8.0\n",
      "Value of the function gradient at x = 1 :  [2. 2.] \n",
      "Value of the function gradient at x = 2 :  [4. 4.]\n"
     ]
    }
   ],
   "source": [
    "# Verify function\n",
    "print(\"Value of the function at x = 1 : \", objective3([1.0,1.0]),\n",
    "      \"\\nValue of the function at x = 2 : \", objective3([2.0,2.0]))\n",
    "print(\"Value of the function gradient at x = 1 : \", nd.Gradient(objective3)([1.0,1.0]),\n",
    "      \"\\nValue of the function gradient at x = 2 : \", nd.Gradient(objective3)([2.0,2.0]))"
   ]
  },
  {
   "cell_type": "code",
   "execution_count": null,
   "id": "5d4c44a5",
   "metadata": {
    "colab": {
     "referenced_widgets": [
      "ffddb106d52340c3a5c9c5178aded9cc",
      "ad65556d15d249a3a67a68159897f232"
     ]
    },
    "id": "5d4c44a5",
    "outputId": "c40a34d6-0bee-4692-e5c7-a8c13dc3b0e7",
    "scrolled": false
   },
   "outputs": [
    {
     "data": {
      "application/vnd.jupyter.widget-view+json": {
       "model_id": "ffddb106d52340c3a5c9c5178aded9cc",
       "version_major": 2,
       "version_minor": 0
      },
      "text/plain": [
       "VBox(children=(FloatSlider(value=0.01, description='Learning Rate:', max=1.0, min=0.01), FloatSlider(value=2.0…"
      ]
     },
     "metadata": {},
     "output_type": "display_data"
    },
    {
     "data": {
      "application/vnd.jupyter.widget-view+json": {
       "model_id": "ad65556d15d249a3a67a68159897f232",
       "version_major": 2,
       "version_minor": 0
      },
      "text/plain": [
       "Output()"
      ]
     },
     "metadata": {},
     "output_type": "display_data"
    }
   ],
   "source": [
    "create_visualization_widget_3D(objective3, add_momentum= True, add_epochs= True)"
   ]
  },
  {
   "cell_type": "markdown",
   "id": "fcad43bb",
   "metadata": {
    "id": "fcad43bb"
   },
   "source": [
    "---"
   ]
  },
  {
   "cell_type": "markdown",
   "id": "5fe90791",
   "metadata": {
    "id": "5fe90791"
   },
   "source": [
    "---\n",
    "\n",
    "# Choose your objective function\n",
    "\n",
    "Feel free to use your own function or try one from the choices below.\n",
    "\n",
    "Try to find functions with difficult search spaces - example, saddle points, local minima etc.\n",
    "\n",
    "**In this example, with local minimas, which combination of hyperparameters gives you the fastest convergence?**"
   ]
  },
  {
   "cell_type": "code",
   "execution_count": null,
   "id": "a0eab31e",
   "metadata": {
    "id": "a0eab31e"
   },
   "outputs": [],
   "source": [
    "objective4 = lambda xy : np.sin(xy[0]) + np.cos(xy[1]) + 0.1 * xy[0]**2 + 0.1 * xy[1]**2 #local minima\n",
    "# (xy[0] - 1)**2 + (xy[1] - 2)**2 + np.sin(2 * np.pi * xy[0]) + np.cos(2 * np.pi * xy[1])\n",
    "# (Saddle point) lambda xy :xy[0]**4 + xy[1]**4 - 2*xy[0]**2 - 2*xy[1]**2 + xy[0]*xy[1]\n",
    "# lambda xy :-2*np.exp(-((xy[0] - 1) * (xy[0] - 1) + (1.4*xy[1])**2) / 0.2) - 6.0 * np.exp(-((xy[0] + 1) * (xy[0] + 1) + (1.4*xy[1])**2) / 0.2) + xy[0]**2 + (1.4*xy[1])**2\n",
    "# lambda xy :np.sin(xy[0]) + xy[1]**2\n",
    "# lambda xy : (xy[0]-1)*(xy[1]+2)*xy[0]*(xy[0]-2) + 2*xy[1]**2\n"
   ]
  },
  {
   "cell_type": "code",
   "execution_count": null,
   "id": "80e3cdcd",
   "metadata": {
    "colab": {
     "referenced_widgets": [
      "cac145b8ff9e412095ac25f6dde7fe23",
      "d5a34ae0fe454fd388d943cce76f7731"
     ]
    },
    "id": "80e3cdcd",
    "outputId": "143bf48f-f3fa-41b5-d88e-794d97149863"
   },
   "outputs": [
    {
     "data": {
      "application/vnd.jupyter.widget-view+json": {
       "model_id": "cac145b8ff9e412095ac25f6dde7fe23",
       "version_major": 2,
       "version_minor": 0
      },
      "text/plain": [
       "VBox(children=(FloatSlider(value=0.01, description='Learning Rate:', max=1.0, min=0.01), FloatSlider(value=2.0…"
      ]
     },
     "metadata": {},
     "output_type": "display_data"
    },
    {
     "data": {
      "application/vnd.jupyter.widget-view+json": {
       "model_id": "d5a34ae0fe454fd388d943cce76f7731",
       "version_major": 2,
       "version_minor": 0
      },
      "text/plain": [
       "Output()"
      ]
     },
     "metadata": {},
     "output_type": "display_data"
    }
   ],
   "source": [
    "create_visualization_widget_3D(objective4, add_momentum= True, add_epochs= True)"
   ]
  },
  {
   "cell_type": "code",
   "execution_count": null,
   "id": "e81951c2",
   "metadata": {
    "id": "e81951c2"
   },
   "outputs": [],
   "source": [
    "\n",
    "\n",
    "#MSE PLots\n",
    "\n"
   ]
  }
 ],
 "metadata": {
  "colab": {
   "provenance": []
  },
  "kernelspec": {
   "display_name": "Python 3 (ipykernel)",
   "language": "python",
   "name": "python3"
  },
  "language_info": {
   "codemirror_mode": {
    "name": "ipython",
    "version": 3
   },
   "file_extension": ".py",
   "mimetype": "text/x-python",
   "name": "python",
   "nbconvert_exporter": "python",
   "pygments_lexer": "ipython3",
   "version": "3.9.12"
  },
  "widgets": {
   "application/vnd.jupyter.widget-state+json": {
    "0b5e0db192d949a28632ad735d210495": {
     "model_module": "@jupyter-widgets/controls",
     "model_module_version": "1.5.0",
     "model_name": "VBoxModel",
     "state": {
      "_dom_classes": [],
      "_model_module": "@jupyter-widgets/controls",
      "_model_module_version": "1.5.0",
      "_model_name": "VBoxModel",
      "_view_count": null,
      "_view_module": "@jupyter-widgets/controls",
      "_view_module_version": "1.5.0",
      "_view_name": "VBoxView",
      "box_style": "",
      "children": [
       "IPY_MODEL_3f92b24a7af74274a205239fcfe0b620",
       "IPY_MODEL_6ed822457f66484c93c76f7ebf5e0bf2",
       "IPY_MODEL_7b71abec2c634cbcbaf13c0292952459"
      ],
      "layout": "IPY_MODEL_638291b4914e47e586615c59e0c93637"
     }
    },
    "0fe7ca50bea74c79a3fb64341a124b6e": {
     "model_module": "@jupyter-widgets/controls",
     "model_module_version": "1.5.0",
     "model_name": "SliderStyleModel",
     "state": {
      "_model_module": "@jupyter-widgets/controls",
      "_model_module_version": "1.5.0",
      "_model_name": "SliderStyleModel",
      "_view_count": null,
      "_view_module": "@jupyter-widgets/base",
      "_view_module_version": "1.2.0",
      "_view_name": "StyleView",
      "description_width": "",
      "handle_color": null
     }
    },
    "35492201fcf2409db0e9b5fe0d98d249": {
     "model_module": "@jupyter-widgets/base",
     "model_module_version": "1.2.0",
     "model_name": "LayoutModel",
     "state": {
      "_model_module": "@jupyter-widgets/base",
      "_model_module_version": "1.2.0",
      "_model_name": "LayoutModel",
      "_view_count": null,
      "_view_module": "@jupyter-widgets/base",
      "_view_module_version": "1.2.0",
      "_view_name": "LayoutView",
      "align_content": null,
      "align_items": null,
      "align_self": null,
      "border": null,
      "bottom": null,
      "display": null,
      "flex": null,
      "flex_flow": null,
      "grid_area": null,
      "grid_auto_columns": null,
      "grid_auto_flow": null,
      "grid_auto_rows": null,
      "grid_column": null,
      "grid_gap": null,
      "grid_row": null,
      "grid_template_areas": null,
      "grid_template_columns": null,
      "grid_template_rows": null,
      "height": null,
      "justify_content": null,
      "justify_items": null,
      "left": null,
      "margin": null,
      "max_height": null,
      "max_width": null,
      "min_height": null,
      "min_width": null,
      "object_fit": null,
      "object_position": null,
      "order": null,
      "overflow": null,
      "overflow_x": null,
      "overflow_y": null,
      "padding": null,
      "right": null,
      "top": null,
      "visibility": null,
      "width": null
     }
    },
    "3e53d03a558b4160b96d4c8f43caea56": {
     "model_module": "@jupyter-widgets/controls",
     "model_module_version": "1.5.0",
     "model_name": "ButtonStyleModel",
     "state": {
      "_model_module": "@jupyter-widgets/controls",
      "_model_module_version": "1.5.0",
      "_model_name": "ButtonStyleModel",
      "_view_count": null,
      "_view_module": "@jupyter-widgets/base",
      "_view_module_version": "1.2.0",
      "_view_name": "StyleView",
      "button_color": null,
      "font_weight": ""
     }
    },
    "3f92b24a7af74274a205239fcfe0b620": {
     "model_module": "@jupyter-widgets/controls",
     "model_module_version": "1.5.0",
     "model_name": "FloatSliderModel",
     "state": {
      "_dom_classes": [],
      "_model_module": "@jupyter-widgets/controls",
      "_model_module_version": "1.5.0",
      "_model_name": "FloatSliderModel",
      "_view_count": null,
      "_view_module": "@jupyter-widgets/controls",
      "_view_module_version": "1.5.0",
      "_view_name": "FloatSliderView",
      "continuous_update": true,
      "description": "Learning Rate:",
      "description_tooltip": null,
      "disabled": false,
      "layout": "IPY_MODEL_35492201fcf2409db0e9b5fe0d98d249",
      "max": 1,
      "min": 0.01,
      "orientation": "horizontal",
      "readout": true,
      "readout_format": ".2f",
      "step": 0.1,
      "style": "IPY_MODEL_0fe7ca50bea74c79a3fb64341a124b6e",
      "value": 0.21
     }
    },
    "4aced5c8747c4e23869649cfca38cdf5": {
     "model_module": "@jupyter-widgets/output",
     "model_module_version": "1.0.0",
     "model_name": "OutputModel",
     "state": {
      "_dom_classes": [],
      "_model_module": "@jupyter-widgets/output",
      "_model_module_version": "1.0.0",
      "_model_name": "OutputModel",
      "_view_count": null,
      "_view_module": "@jupyter-widgets/output",
      "_view_module_version": "1.0.0",
      "_view_name": "OutputView",
      "layout": "IPY_MODEL_e08f65a170634ca08f8479f1e6cefa6d",
      "msg_id": "",
      "outputs": []
     }
    },
    "638291b4914e47e586615c59e0c93637": {
     "model_module": "@jupyter-widgets/base",
     "model_module_version": "1.2.0",
     "model_name": "LayoutModel",
     "state": {
      "_model_module": "@jupyter-widgets/base",
      "_model_module_version": "1.2.0",
      "_model_name": "LayoutModel",
      "_view_count": null,
      "_view_module": "@jupyter-widgets/base",
      "_view_module_version": "1.2.0",
      "_view_name": "LayoutView",
      "align_content": null,
      "align_items": null,
      "align_self": null,
      "border": null,
      "bottom": null,
      "display": null,
      "flex": null,
      "flex_flow": null,
      "grid_area": null,
      "grid_auto_columns": null,
      "grid_auto_flow": null,
      "grid_auto_rows": null,
      "grid_column": null,
      "grid_gap": null,
      "grid_row": null,
      "grid_template_areas": null,
      "grid_template_columns": null,
      "grid_template_rows": null,
      "height": null,
      "justify_content": null,
      "justify_items": null,
      "left": null,
      "margin": null,
      "max_height": null,
      "max_width": null,
      "min_height": null,
      "min_width": null,
      "object_fit": null,
      "object_position": null,
      "order": null,
      "overflow": null,
      "overflow_x": null,
      "overflow_y": null,
      "padding": null,
      "right": null,
      "top": null,
      "visibility": null,
      "width": null
     }
    },
    "6683a15efe4f4cb7ad8a6d28db4ba057": {
     "model_module": "@jupyter-widgets/controls",
     "model_module_version": "1.5.0",
     "model_name": "SliderStyleModel",
     "state": {
      "_model_module": "@jupyter-widgets/controls",
      "_model_module_version": "1.5.0",
      "_model_name": "SliderStyleModel",
      "_view_count": null,
      "_view_module": "@jupyter-widgets/base",
      "_view_module_version": "1.2.0",
      "_view_name": "StyleView",
      "description_width": "",
      "handle_color": null
     }
    },
    "6ed822457f66484c93c76f7ebf5e0bf2": {
     "model_module": "@jupyter-widgets/controls",
     "model_module_version": "1.5.0",
     "model_name": "FloatSliderModel",
     "state": {
      "_dom_classes": [],
      "_model_module": "@jupyter-widgets/controls",
      "_model_module_version": "1.5.0",
      "_model_name": "FloatSliderModel",
      "_view_count": null,
      "_view_module": "@jupyter-widgets/controls",
      "_view_module_version": "1.5.0",
      "_view_name": "FloatSliderView",
      "continuous_update": true,
      "description": "Initial Point:",
      "description_tooltip": null,
      "disabled": false,
      "layout": "IPY_MODEL_a86c1a7d01f1406b8c6cf05f2c2c07eb",
      "max": 5,
      "min": -5,
      "orientation": "horizontal",
      "readout": true,
      "readout_format": ".2f",
      "step": 1,
      "style": "IPY_MODEL_6683a15efe4f4cb7ad8a6d28db4ba057",
      "value": 2
     }
    },
    "7b71abec2c634cbcbaf13c0292952459": {
     "model_module": "@jupyter-widgets/controls",
     "model_module_version": "1.5.0",
     "model_name": "ButtonModel",
     "state": {
      "_dom_classes": [],
      "_model_module": "@jupyter-widgets/controls",
      "_model_module_version": "1.5.0",
      "_model_name": "ButtonModel",
      "_view_count": null,
      "_view_module": "@jupyter-widgets/controls",
      "_view_module_version": "1.5.0",
      "_view_name": "ButtonView",
      "button_style": "",
      "description": "Start Visualization",
      "disabled": false,
      "icon": "",
      "layout": "IPY_MODEL_af5c4bd7205340d0ba99351cd0808b34",
      "style": "IPY_MODEL_3e53d03a558b4160b96d4c8f43caea56",
      "tooltip": ""
     }
    },
    "a86c1a7d01f1406b8c6cf05f2c2c07eb": {
     "model_module": "@jupyter-widgets/base",
     "model_module_version": "1.2.0",
     "model_name": "LayoutModel",
     "state": {
      "_model_module": "@jupyter-widgets/base",
      "_model_module_version": "1.2.0",
      "_model_name": "LayoutModel",
      "_view_count": null,
      "_view_module": "@jupyter-widgets/base",
      "_view_module_version": "1.2.0",
      "_view_name": "LayoutView",
      "align_content": null,
      "align_items": null,
      "align_self": null,
      "border": null,
      "bottom": null,
      "display": null,
      "flex": null,
      "flex_flow": null,
      "grid_area": null,
      "grid_auto_columns": null,
      "grid_auto_flow": null,
      "grid_auto_rows": null,
      "grid_column": null,
      "grid_gap": null,
      "grid_row": null,
      "grid_template_areas": null,
      "grid_template_columns": null,
      "grid_template_rows": null,
      "height": null,
      "justify_content": null,
      "justify_items": null,
      "left": null,
      "margin": null,
      "max_height": null,
      "max_width": null,
      "min_height": null,
      "min_width": null,
      "object_fit": null,
      "object_position": null,
      "order": null,
      "overflow": null,
      "overflow_x": null,
      "overflow_y": null,
      "padding": null,
      "right": null,
      "top": null,
      "visibility": null,
      "width": null
     }
    },
    "af5c4bd7205340d0ba99351cd0808b34": {
     "model_module": "@jupyter-widgets/base",
     "model_module_version": "1.2.0",
     "model_name": "LayoutModel",
     "state": {
      "_model_module": "@jupyter-widgets/base",
      "_model_module_version": "1.2.0",
      "_model_name": "LayoutModel",
      "_view_count": null,
      "_view_module": "@jupyter-widgets/base",
      "_view_module_version": "1.2.0",
      "_view_name": "LayoutView",
      "align_content": null,
      "align_items": null,
      "align_self": null,
      "border": null,
      "bottom": null,
      "display": null,
      "flex": null,
      "flex_flow": null,
      "grid_area": null,
      "grid_auto_columns": null,
      "grid_auto_flow": null,
      "grid_auto_rows": null,
      "grid_column": null,
      "grid_gap": null,
      "grid_row": null,
      "grid_template_areas": null,
      "grid_template_columns": null,
      "grid_template_rows": null,
      "height": null,
      "justify_content": null,
      "justify_items": null,
      "left": null,
      "margin": null,
      "max_height": null,
      "max_width": null,
      "min_height": null,
      "min_width": null,
      "object_fit": null,
      "object_position": null,
      "order": null,
      "overflow": null,
      "overflow_x": null,
      "overflow_y": null,
      "padding": null,
      "right": null,
      "top": null,
      "visibility": null,
      "width": "auto"
     }
    },
    "e08f65a170634ca08f8479f1e6cefa6d": {
     "model_module": "@jupyter-widgets/base",
     "model_module_version": "1.2.0",
     "model_name": "LayoutModel",
     "state": {
      "_model_module": "@jupyter-widgets/base",
      "_model_module_version": "1.2.0",
      "_model_name": "LayoutModel",
      "_view_count": null,
      "_view_module": "@jupyter-widgets/base",
      "_view_module_version": "1.2.0",
      "_view_name": "LayoutView",
      "align_content": null,
      "align_items": null,
      "align_self": null,
      "border": null,
      "bottom": null,
      "display": null,
      "flex": null,
      "flex_flow": null,
      "grid_area": null,
      "grid_auto_columns": null,
      "grid_auto_flow": null,
      "grid_auto_rows": null,
      "grid_column": null,
      "grid_gap": null,
      "grid_row": null,
      "grid_template_areas": null,
      "grid_template_columns": null,
      "grid_template_rows": null,
      "height": null,
      "justify_content": null,
      "justify_items": null,
      "left": null,
      "margin": null,
      "max_height": null,
      "max_width": null,
      "min_height": null,
      "min_width": null,
      "object_fit": null,
      "object_position": null,
      "order": null,
      "overflow": null,
      "overflow_x": null,
      "overflow_y": null,
      "padding": null,
      "right": null,
      "top": null,
      "visibility": null,
      "width": null
     }
    }
   }
  }
 },
 "nbformat": 4,
 "nbformat_minor": 5
}
