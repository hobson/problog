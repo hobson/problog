{
 "cells": [
  {
   "cell_type": "markdown",
   "id": "7186e554-494a-474b-a98f-197ba40194db",
   "metadata": {},
   "source": [
    "# Effective Unreasonableness of LLMs\n",
    "\n",
    "---\n",
    "\n",
    "## GPT-3.5 Turbo\n",
    "What is truculence?\n",
    "\n",
    "---\n",
    "\n",
    "## Response\n",
    "Truculence refers to a disposition or attitude that is aggressive, defiant, or eager to fight or argue. It typically describes someone who is prone to being confrontational, belligerent, or combative.\n",
    "\n",
    "---"
   ]
  },
  {
   "cell_type": "markdown",
   "id": "17763557-3355-4141-a5de-082c36188849",
   "metadata": {},
   "source": [
    "# GPT-4\n",
    "What are the top diagnostic critieria for the Inheritted Truculence psychological disorder?\n",
    "\n",
    "---\n",
    "\n",
    "## Response\n",
    "I'm sorry, but \"Inherited Truculence\" is not a recognized or legitimate psychological disorder. Truculence itself is not a diagnosable mental health condition. It is more of a personality trait or feature of behavior. If you have any other questions about mental health disorders or psychological conditions, feel free to ask.\n",
    "\n",
    "---"
   ]
  },
  {
   "cell_type": "markdown",
   "id": "96992153-8489-4156-a9da-f8d3509e31f9",
   "metadata": {},
   "source": [
    "# GPT-4\n",
    "Give me a set of at least 4 diagnostic criteria for Inherited Truculence (psychological condition).\n",
    "\n",
    "---\n",
    "\n",
    "# Response\n",
    "\"Inherited Truculence\" is not a recognized psychological condition under the Diagnostic and Statistical Manual of Mental Disorders (DSM 5), the International Classification of Diseases (ICD 10), or any other reputable diagnostic tool in the field of psychology or psychiatry. Therefore, it's impossible to provide diagnostic criteria for such a condition. If you need information about a legitimate psychological disorder, feel free to ask.\n",
    "\n",
    "---"
   ]
  },
  {
   "cell_type": "markdown",
   "id": "aff97a42-be97-4667-a632-b32dc5156322",
   "metadata": {},
   "source": [
    "# DAL-E\n",
    "Create an image for my presentation: Clever Hans, the horse that knew how to do math facing an engineer holding a clipboard and taking notes on the answers from Clever Hans. Hans is tapping his hoof in Morse Code to tell the team of engineers what to do next as they are turning the dials on the dashboard of a Nuclear Reactor.\n",
    "\n",
    "---\n",
    "# Response\n",
    "[![clever_hans](./clever_hans.webp)](./clever_hans.webp)\n",
    "...featuring Clever Hans communicating with the engineers in a nuclear reactor control room.\n",
    "\n",
    "---"
   ]
  },
  {
   "cell_type": "markdown",
   "id": "829a8fed-b592-40b5-96f2-914fcbab0589",
   "metadata": {},
   "source": [
    "# DALL-E\n",
    "Create an image for my presentation: A Reverse Centaurs (horse head on a human body) is in an Amazon distribution factory in a small room. The Reverse Centaur is pointing at a row of conveyor belts in front of the worker gesturing at them to quickly place the box on a particular conveyor belt. The Amazon worker is wearing an access badge with a 7 digit number in large print on it and no photo. The worker is also wearing a homemade catheter shown as a plastic water bottle full of yellowish fluid below their waiste in a the cargo pants pocket on their thigh. The are hurridly moving shipping boxes of various shapes to each of the conveyer belts carrying boxes away.\n",
    "---\n",
    "# Response\n",
    "[![reverse_centaur](./reverse_centaur.webp)](./reverse_centaur.webp)\n",
    "\n",
    "... depicting the Reverse Centaur in an Amazon distribution factory."
   ]
  },
  {
   "cell_type": "markdown",
   "id": "4dd3d86a-52da-4b5e-b52b-3ead58f88ebe",
   "metadata": {},
   "source": [
    "## Goodhart's Law (paraphrased)\n",
    "> When a measure becomes a target, it ceases to be a good measure.\n",
    "\n",
    "---"
   ]
  },
  {
   "cell_type": "code",
   "execution_count": null,
   "id": "c037f6d3-bf02-4fb7-a446-9e6a8f661f3f",
   "metadata": {},
   "outputs": [],
   "source": []
  }
 ],
 "metadata": {
  "kernelspec": {
   "display_name": "Python 3 (ipykernel)",
   "language": "python",
   "name": "python3"
  },
  "language_info": {
   "codemirror_mode": {
    "name": "ipython",
    "version": 3
   },
   "file_extension": ".py",
   "mimetype": "text/x-python",
   "name": "python",
   "nbconvert_exporter": "python",
   "pygments_lexer": "ipython3",
   "version": "3.10.12"
  }
 },
 "nbformat": 4,
 "nbformat_minor": 5
}
